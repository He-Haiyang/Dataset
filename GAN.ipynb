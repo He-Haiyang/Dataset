{
  "nbformat": 4,
  "nbformat_minor": 0,
  "metadata": {
    "colab": {
      "name": "GAN.ipynb",
      "version": "0.3.2",
      "provenance": [],
      "collapsed_sections": [],
      "toc_visible": true,
      "include_colab_link": true
    },
    "kernelspec": {
      "name": "python3",
      "display_name": "Python 3"
    },
    "accelerator": "GPU"
  },
  "cells": [
    {
      "cell_type": "markdown",
      "metadata": {
        "id": "view-in-github",
        "colab_type": "text"
      },
      "source": [
        "<a href=\"https://colab.research.google.com/github/He-Haiyang/Dataset/blob/master/GAN.ipynb\" target=\"_parent\"><img src=\"https://colab.research.google.com/assets/colab-badge.svg\" alt=\"Open In Colab\"/></a>"
      ]
    },
    {
      "cell_type": "code",
      "metadata": {
        "id": "iko03wQ2SQ7h",
        "colab_type": "code",
        "colab": {}
      },
      "source": [
        "import numpy as np\n",
        "import tensorflow as tf\n",
        "import matplotlib.pyplot as plt"
      ],
      "execution_count": 0,
      "outputs": []
    },
    {
      "cell_type": "code",
      "metadata": {
        "id": "6V-wxt_TTjEn",
        "colab_type": "code",
        "outputId": "618c8d74-2c2c-4e6b-ebc2-f638bdfe74cc",
        "colab": {
          "base_uri": "https://localhost:8080/",
          "height": 785
        }
      },
      "source": [
        "!wget http://fashion-mnist.s3-website.eu-central-1.amazonaws.com/train-images-idx3-ubyte.gz\n",
        "!wget http://fashion-mnist.s3-website.eu-central-1.amazonaws.com/train-labels-idx1-ubyte.gz\n",
        "!wget http://fashion-mnist.s3-website.eu-central-1.amazonaws.com/t10k-images-idx3-ubyte.gz\n",
        "!wget http://fashion-mnist.s3-website.eu-central-1.amazonaws.com/t10k-labels-idx1-ubyte.gz"
      ],
      "execution_count": 0,
      "outputs": [
        {
          "output_type": "stream",
          "text": [
            "--2019-07-03 22:59:57--  http://fashion-mnist.s3-website.eu-central-1.amazonaws.com/train-images-idx3-ubyte.gz\n",
            "Resolving fashion-mnist.s3-website.eu-central-1.amazonaws.com (fashion-mnist.s3-website.eu-central-1.amazonaws.com)... 52.219.73.50\n",
            "Connecting to fashion-mnist.s3-website.eu-central-1.amazonaws.com (fashion-mnist.s3-website.eu-central-1.amazonaws.com)|52.219.73.50|:80... connected.\n",
            "HTTP request sent, awaiting response... 200 OK\n",
            "Length: 26421880 (25M) [binary/octet-stream]\n",
            "Saving to: ‘train-images-idx3-ubyte.gz’\n",
            "\n",
            "train-images-idx3-u 100%[===================>]  25.20M  7.45MB/s    in 3.4s    \n",
            "\n",
            "2019-07-03 23:00:06 (7.45 MB/s) - ‘train-images-idx3-ubyte.gz’ saved [26421880/26421880]\n",
            "\n",
            "--2019-07-03 23:00:07--  http://fashion-mnist.s3-website.eu-central-1.amazonaws.com/train-labels-idx1-ubyte.gz\n",
            "Resolving fashion-mnist.s3-website.eu-central-1.amazonaws.com (fashion-mnist.s3-website.eu-central-1.amazonaws.com)... 52.219.73.94\n",
            "Connecting to fashion-mnist.s3-website.eu-central-1.amazonaws.com (fashion-mnist.s3-website.eu-central-1.amazonaws.com)|52.219.73.94|:80... connected.\n",
            "HTTP request sent, awaiting response... 200 OK\n",
            "Length: 29515 (29K) [binary/octet-stream]\n",
            "Saving to: ‘train-labels-idx1-ubyte.gz’\n",
            "\n",
            "train-labels-idx1-u 100%[===================>]  28.82K   127KB/s    in 0.2s    \n",
            "\n",
            "2019-07-03 23:00:08 (127 KB/s) - ‘train-labels-idx1-ubyte.gz’ saved [29515/29515]\n",
            "\n",
            "--2019-07-03 23:00:08--  http://fashion-mnist.s3-website.eu-central-1.amazonaws.com/t10k-images-idx3-ubyte.gz\n",
            "Resolving fashion-mnist.s3-website.eu-central-1.amazonaws.com (fashion-mnist.s3-website.eu-central-1.amazonaws.com)... 52.219.73.94\n",
            "Connecting to fashion-mnist.s3-website.eu-central-1.amazonaws.com (fashion-mnist.s3-website.eu-central-1.amazonaws.com)|52.219.73.94|:80... connected.\n",
            "HTTP request sent, awaiting response... 200 OK\n",
            "Length: 4422102 (4.2M) [binary/octet-stream]\n",
            "Saving to: ‘t10k-images-idx3-ubyte.gz’\n",
            "\n",
            "t10k-images-idx3-ub 100%[===================>]   4.22M  2.27MB/s    in 1.9s    \n",
            "\n",
            "2019-07-03 23:00:11 (2.27 MB/s) - ‘t10k-images-idx3-ubyte.gz’ saved [4422102/4422102]\n",
            "\n",
            "--2019-07-03 23:00:11--  http://fashion-mnist.s3-website.eu-central-1.amazonaws.com/t10k-labels-idx1-ubyte.gz\n",
            "Resolving fashion-mnist.s3-website.eu-central-1.amazonaws.com (fashion-mnist.s3-website.eu-central-1.amazonaws.com)... 52.219.73.78\n",
            "Connecting to fashion-mnist.s3-website.eu-central-1.amazonaws.com (fashion-mnist.s3-website.eu-central-1.amazonaws.com)|52.219.73.78|:80... connected.\n",
            "HTTP request sent, awaiting response... 200 OK\n",
            "Length: 5148 (5.0K) [binary/octet-stream]\n",
            "Saving to: ‘t10k-labels-idx1-ubyte.gz’\n",
            "\n",
            "t10k-labels-idx1-ub 100%[===================>]   5.03K  --.-KB/s    in 0s      \n",
            "\n",
            "2019-07-03 23:00:12 (466 MB/s) - ‘t10k-labels-idx1-ubyte.gz’ saved [5148/5148]\n",
            "\n"
          ],
          "name": "stdout"
        }
      ]
    },
    {
      "cell_type": "code",
      "metadata": {
        "id": "IzVt_YIqTmpT",
        "colab_type": "code",
        "outputId": "354b4316-e6dd-4c4e-9477-6b07619f3873",
        "colab": {
          "base_uri": "https://localhost:8080/",
          "height": 377
        }
      },
      "source": [
        "!mkdir MNIST_Fashion\n",
        "! cp *.gz MNIST_Fashion\n",
        "from tensorflow.examples.tutorials.mnist import input_data\n",
        "mnist = input_data.read_data_sets(\"MNIST_Fashion/\")"
      ],
      "execution_count": 0,
      "outputs": [
        {
          "output_type": "stream",
          "text": [
            "WARNING: Logging before flag parsing goes to stderr.\n",
            "W0703 23:00:28.186037 140121853040512 deprecation.py:323] From <ipython-input-3-5764603a4c5c>:4: read_data_sets (from tensorflow.contrib.learn.python.learn.datasets.mnist) is deprecated and will be removed in a future version.\n",
            "Instructions for updating:\n",
            "Please use alternatives such as official/mnist/dataset.py from tensorflow/models.\n",
            "W0703 23:00:28.187826 140121853040512 deprecation.py:323] From /usr/local/lib/python3.6/dist-packages/tensorflow/contrib/learn/python/learn/datasets/mnist.py:260: maybe_download (from tensorflow.contrib.learn.python.learn.datasets.base) is deprecated and will be removed in a future version.\n",
            "Instructions for updating:\n",
            "Please write your own downloading logic.\n",
            "W0703 23:00:28.191127 140121853040512 deprecation.py:323] From /usr/local/lib/python3.6/dist-packages/tensorflow/contrib/learn/python/learn/datasets/mnist.py:262: extract_images (from tensorflow.contrib.learn.python.learn.datasets.mnist) is deprecated and will be removed in a future version.\n",
            "Instructions for updating:\n",
            "Please use tf.data to implement this functionality.\n"
          ],
          "name": "stderr"
        },
        {
          "output_type": "stream",
          "text": [
            "Extracting MNIST_Fashion/train-images-idx3-ubyte.gz\n"
          ],
          "name": "stdout"
        },
        {
          "output_type": "stream",
          "text": [
            "W0703 23:00:28.492500 140121853040512 deprecation.py:323] From /usr/local/lib/python3.6/dist-packages/tensorflow/contrib/learn/python/learn/datasets/mnist.py:267: extract_labels (from tensorflow.contrib.learn.python.learn.datasets.mnist) is deprecated and will be removed in a future version.\n",
            "Instructions for updating:\n",
            "Please use tf.data to implement this functionality.\n",
            "W0703 23:00:28.556799 140121853040512 deprecation.py:323] From /usr/local/lib/python3.6/dist-packages/tensorflow/contrib/learn/python/learn/datasets/mnist.py:290: DataSet.__init__ (from tensorflow.contrib.learn.python.learn.datasets.mnist) is deprecated and will be removed in a future version.\n",
            "Instructions for updating:\n",
            "Please use alternatives such as official/mnist/dataset.py from tensorflow/models.\n"
          ],
          "name": "stderr"
        },
        {
          "output_type": "stream",
          "text": [
            "Extracting MNIST_Fashion/train-labels-idx1-ubyte.gz\n",
            "Extracting MNIST_Fashion/t10k-images-idx3-ubyte.gz\n",
            "Extracting MNIST_Fashion/t10k-labels-idx1-ubyte.gz\n"
          ],
          "name": "stdout"
        }
      ]
    },
    {
      "cell_type": "code",
      "metadata": {
        "id": "PNEX-WpT0-Cw",
        "colab_type": "code",
        "outputId": "4e3aaba2-7064-4caf-d102-46e87133ec1e",
        "colab": {
          "base_uri": "https://localhost:8080/",
          "height": 1000
        }
      },
      "source": [
        "plt.figure(figsize=(1, 1))\n",
        "sample_image = mnist.train.next_batch(1)[0]\n",
        "print(sample_image[0])\n",
        "\n",
        "sample_image = sample_image.reshape(28, 28)\n",
        "plt.imshow(sample_image, cmap=\"gray\")"
      ],
      "execution_count": 0,
      "outputs": [
        {
          "output_type": "stream",
          "text": [
            "[0.         0.         0.         0.         0.         0.\n",
            " 0.         0.         0.         0.         0.         0.\n",
            " 0.         0.42352945 0.4666667  0.40784317 0.         0.\n",
            " 0.00784314 0.00392157 0.         0.         0.         0.\n",
            " 0.         0.         0.         0.         0.         0.\n",
            " 0.         0.         0.         0.         0.         0.\n",
            " 0.         0.         0.01176471 0.         0.3529412  0.5254902\n",
            " 0.         0.23137257 0.5647059  0.         0.00392157 0.\n",
            " 0.         0.         0.         0.         0.         0.\n",
            " 0.         0.         0.         0.         0.         0.\n",
            " 0.         0.         0.         0.         0.         0.00392157\n",
            " 0.         0.         0.65882355 0.         0.         0.\n",
            " 0.5019608  0.1764706  0.         0.01176471 0.         0.\n",
            " 0.         0.         0.         0.         0.         0.\n",
            " 0.         0.         0.         0.         0.         0.\n",
            " 0.         0.         0.00392157 0.02352941 0.         0.3137255\n",
            " 0.36862746 0.         0.00784314 0.         0.11764707 0.52156866\n",
            " 0.         0.01176471 0.         0.         0.         0.\n",
            " 0.         0.         0.         0.         0.         0.\n",
            " 0.         0.         0.         0.         0.         0.\n",
            " 0.00392157 0.         0.         0.5882353  0.03137255 0.\n",
            " 0.         0.         0.         0.5647059  0.05882353 0.\n",
            " 0.00784314 0.         0.         0.         0.         0.\n",
            " 0.         0.         0.         0.         0.         0.\n",
            " 0.         0.         0.         0.         0.00392157 0.\n",
            " 0.18039216 0.5529412  0.         0.         0.         0.00784314\n",
            " 0.         0.38431376 0.35686275 0.         0.01960784 0.\n",
            " 0.         0.         0.         0.         0.         0.\n",
            " 0.         0.         0.         0.         0.         0.\n",
            " 0.         0.         0.         0.         0.41176474 0.18039216\n",
            " 0.         0.00392157 0.         0.01176471 0.         0.12156864\n",
            " 0.5647059  0.         0.01960784 0.         0.         0.\n",
            " 0.         0.         0.         0.         0.         0.\n",
            " 0.         0.         0.         0.         0.         0.00392157\n",
            " 0.         0.05490196 0.5882353  0.         0.         0.00392157\n",
            " 0.         0.         0.         0.         0.5254902  0.00392157\n",
            " 0.         0.00392157 0.         0.         0.         0.\n",
            " 0.         0.         0.         0.         0.         0.\n",
            " 0.         0.         0.         0.00784314 0.         0.35686275\n",
            " 0.42352945 0.         0.         0.         0.         0.\n",
            " 0.01176471 0.         0.24705884 0.25490198 0.         0.01568628\n",
            " 0.         0.         0.         0.         0.         0.\n",
            " 0.         0.         0.         0.         0.         0.\n",
            " 0.         0.         0.         0.46274513 0.12156864 0.\n",
            " 0.00392157 0.         0.         0.         0.         0.\n",
            " 0.         0.36862746 0.         0.         0.         0.\n",
            " 0.         0.         0.         0.         0.         0.\n",
            " 0.         0.         0.         0.         0.         0.\n",
            " 0.14901961 0.5294118  0.         0.         0.         0.\n",
            " 0.         0.         0.         0.00784314 0.         0.37254903\n",
            " 0.16078432 0.         0.         0.         0.         0.\n",
            " 0.         0.         0.         0.         0.         0.\n",
            " 0.         0.         0.         0.         0.38431376 0.08627451\n",
            " 0.         0.         0.         0.         0.         0.\n",
            " 0.         0.00784314 0.         0.08235294 0.34901962 0.\n",
            " 0.         0.         0.         0.         0.         0.\n",
            " 0.         0.         0.         0.         0.         0.\n",
            " 0.         0.         0.7058824  0.46274513 0.         0.\n",
            " 0.         0.         0.         0.         0.         0.00784314\n",
            " 0.         0.10980393 0.74509805 0.         0.         0.\n",
            " 0.         0.         0.         0.         0.         0.\n",
            " 0.         0.         0.         0.         0.         0.\n",
            " 0.50980395 0.7019608  0.43529415 0.         0.         0.00392157\n",
            " 0.         0.         0.         0.         0.00392157 0.6431373\n",
            " 0.5529412  0.         0.         0.         0.         0.\n",
            " 0.         0.         0.         0.         0.         0.\n",
            " 0.         0.         0.         0.         0.6745098  0.62352943\n",
            " 0.7019608  0.07058824 0.         0.         0.         0.\n",
            " 0.         0.         0.6        0.627451   0.5294118  0.\n",
            " 0.         0.         0.         0.         0.         0.\n",
            " 0.         0.         0.         0.         0.         0.\n",
            " 0.         0.         0.70980394 0.627451   0.6117647  0.7137255\n",
            " 0.5019608  0.35686275 0.43921572 0.47058827 0.5372549  0.68235296\n",
            " 0.5058824  0.5882353  0.6745098  0.         0.         0.\n",
            " 0.         0.         0.         0.         0.         0.\n",
            " 0.         0.         0.         0.         0.         0.04313726\n",
            " 0.7607844  0.6627451  0.6313726  0.68235296 0.7294118  0.73333335\n",
            " 0.68235296 0.654902   0.6156863  0.6        0.5137255  0.6392157\n",
            " 0.8078432  0.1254902  0.         0.         0.         0.\n",
            " 0.         0.         0.         0.         0.         0.\n",
            " 0.         0.         0.         0.09019608 0.909804   0.6784314\n",
            " 0.6509804  0.6        0.6313726  0.6392157  0.62352943 0.627451\n",
            " 0.62352943 0.60784316 0.5921569  0.56078434 0.7294118  0.19607845\n",
            " 0.         0.         0.         0.         0.         0.\n",
            " 0.         0.         0.         0.         0.         0.\n",
            " 0.         0.09411766 0.9686275  0.5568628  0.68235296 0.63529414\n",
            " 0.54509807 0.59607846 0.6117647  0.61960787 0.61960787 0.63529414\n",
            " 0.6901961  0.59607846 0.8196079  0.2509804  0.         0.\n",
            " 0.         0.         0.         0.         0.         0.\n",
            " 0.         0.         0.         0.         0.         0.08627451\n",
            " 0.97647065 0.60784316 0.5921569  0.7254902  0.69411767 0.6627451\n",
            " 0.6666667  0.6666667  0.64705884 0.67058825 0.5803922  0.57254905\n",
            " 0.7843138  0.30980393 0.         0.         0.         0.\n",
            " 0.         0.         0.         0.         0.         0.\n",
            " 0.         0.         0.         0.07058824 0.89019614 0.68235296\n",
            " 0.6117647  0.6039216  0.7294118  0.7137255  0.654902   0.6862745\n",
            " 0.6745098  0.6156863  0.6        0.56078434 0.7607844  0.24705884\n",
            " 0.         0.         0.         0.         0.         0.\n",
            " 0.         0.         0.         0.         0.         0.\n",
            " 0.         0.21568629 0.8588236  0.654902   0.62352943 0.6\n",
            " 0.60784316 0.6039216  0.5882353  0.6156863  0.5254902  0.5764706\n",
            " 0.60784316 0.5647059  0.7725491  0.2509804  0.         0.\n",
            " 0.         0.         0.         0.         0.         0.\n",
            " 0.         0.         0.         0.         0.         0.28627452\n",
            " 0.86666673 0.6627451  0.6901961  0.6745098  0.6431373  0.5764706\n",
            " 0.5882353  0.6        0.6039216  0.6627451  0.63529414 0.62352943\n",
            " 0.7960785  0.25882354 0.         0.         0.         0.\n",
            " 0.         0.         0.         0.         0.         0.\n",
            " 0.         0.         0.         0.41960788 0.81568635 0.6431373\n",
            " 0.6666667  0.6627451  0.7019608  0.7058824  0.6745098  0.6627451\n",
            " 0.67058825 0.61960787 0.654902   0.61960787 0.8352942  0.2392157\n",
            " 0.         0.         0.         0.         0.         0.\n",
            " 0.         0.         0.         0.         0.         0.\n",
            " 0.         0.59607846 0.8117648  0.6313726  0.6784314  0.64705884\n",
            " 0.6862745  0.6509804  0.62352943 0.6431373  0.6745098  0.63529414\n",
            " 0.65882355 0.6313726  0.7960785  0.29803923 0.         0.\n",
            " 0.         0.         0.         0.         0.         0.\n",
            " 0.         0.         0.         0.         0.         0.65882355\n",
            " 0.75294125 0.6627451  0.6509804  0.6627451  0.64705884 0.60784316\n",
            " 0.61960787 0.6313726  0.62352943 0.6039216  0.60784316 0.6156863\n",
            " 0.78823537 0.5294118  0.         0.         0.         0.\n",
            " 0.         0.         0.         0.         0.         0.\n",
            " 0.         0.         0.         0.5372549  1.         0.7803922\n",
            " 0.75294125 0.74509805 0.73333335 0.6862745  0.6431373  0.654902\n",
            " 0.6509804  0.654902   0.7019608  0.7176471  0.89019614 0.60784316\n",
            " 0.         0.         0.         0.         0.         0.\n",
            " 0.         0.         0.         0.         0.         0.\n",
            " 0.         0.         0.4431373  0.47058827 0.49411768 0.5176471\n",
            " 0.5686275  0.64705884 0.6156863  0.63529414 0.64705884 0.654902\n",
            " 0.7058824  0.49803925 0.48235297 0.11764707 0.         0.\n",
            " 0.         0.         0.         0.        ]\n"
          ],
          "name": "stdout"
        },
        {
          "output_type": "execute_result",
          "data": {
            "text/plain": [
              "<matplotlib.image.AxesImage at 0x7f7051c18c88>"
            ]
          },
          "metadata": {
            "tags": []
          },
          "execution_count": 4
        },
        {
          "output_type": "display_data",
          "data": {
            "image/png": "[encoded data removed]",
            "text/plain": [
              "<Figure size 72x72 with 1 Axes>"
            ]
          },
          "metadata": {
            "tags": []
          }
        }
      ]
    },
    {
      "cell_type": "markdown",
      "metadata": {
        "id": "agrVaMMOVkMH",
        "colab_type": "text"
      },
      "source": [
        "## Hyperparameter settings"
      ]
    },
    {
      "cell_type": "code",
      "metadata": {
        "id": "lDX7-ULdVD6-",
        "colab_type": "code",
        "colab": {}
      },
      "source": [
        "learning_rate = 0.0002\n",
        "epochs = 100000\n",
        "batch_size = 128\n",
        "\n",
        "image_dim = 784\n",
        "gen_hidden_dim = 256\n",
        "disc_hidden_dim = 256\n",
        "z_noise_dim = 100\n",
        "\n",
        "def xavier_init(shape):\n",
        "  return tf.random_normal(shape, stddev=1./tf.sqrt(shape[0]/2.0))"
      ],
      "execution_count": 0,
      "outputs": []
    },
    {
      "cell_type": "markdown",
      "metadata": {
        "id": "_A8RPT92XLgy",
        "colab_type": "text"
      },
      "source": [
        "## Defining weights and bias dictionaries"
      ]
    },
    {
      "cell_type": "code",
      "metadata": {
        "id": "Q4IcqwiyXJuM",
        "colab_type": "code",
        "colab": {}
      },
      "source": [
        "weights = {\n",
        "    \"disc_H\": tf.Variable(xavier_init([image_dim, disc_hidden_dim])),\n",
        "    \"disc_final\": tf.Variable(xavier_init([disc_hidden_dim, 1])),\n",
        "    \"gen_H\": tf.Variable(xavier_init([z_noise_dim, gen_hidden_dim])),\n",
        "    \"gen_final\": tf.Variable(xavier_init([gen_hidden_dim, image_dim]))\n",
        "}\n",
        "\n",
        "bias = {\n",
        "    \"disc_H\": tf.Variable(xavier_init([disc_hidden_dim])),\n",
        "    \"disc_final\":tf.Variable(xavier_init([1])),\n",
        "    \"gen_H\": tf.Variable(xavier_init([gen_hidden_dim])),\n",
        "    \"gen_final\": tf.Variable(xavier_init([image_dim]))\n",
        "}"
      ],
      "execution_count": 0,
      "outputs": []
    },
    {
      "cell_type": "markdown",
      "metadata": {
        "id": "82fuj3SmZZD3",
        "colab_type": "text"
      },
      "source": [
        "## Creating the computational graph"
      ]
    },
    {
      "cell_type": "code",
      "metadata": {
        "id": "EBqdfNw4Zcse",
        "colab_type": "code",
        "colab": {}
      },
      "source": [
        "def Discriminator(x):\n",
        "  hidden_layer = tf.nn.relu(tf.add(tf.matmul(x, weights[\"disc_H\"]), bias[\"disc_H\"]))\n",
        "  final_layer = tf.add(tf.matmul(hidden_layer, weights[\"disc_final\"]), bias[\"disc_final\"])\n",
        "  disc_output = tf.nn.sigmoid(final_layer)\n",
        "  return final_layer, disc_output\n",
        "\n",
        "\n",
        "def Generator(x):\n",
        "  hidden_layer = tf.nn.relu(tf.add(tf.matmul(x, weights[\"gen_H\"]), bias[\"gen_H\"]))\n",
        "  final_layer = tf.add(tf.matmul(hidden_layer, weights[\"gen_final\"]), bias[\"gen_final\"])\n",
        "  gen_output = tf.nn.sigmoid(final_layer)\n",
        "  return gen_output\n",
        "\n",
        "Z_input = tf.placeholder(tf.float32, shape = [None, z_noise_dim], name = \"Input_noise\")\n",
        "X_input = tf.placeholder(tf.float32, shape = [None, image_dim], name = \"Real_input\")\n",
        "  \n",
        "with tf.name_scope(\"Generator\") as scope:\n",
        "  output_Gen = Generator(Z_input)\n",
        "  \n",
        "with tf.name_scope(\"Discriminator\") as scope:\n",
        "  real_output1_Disc, real_output_Disc = Discriminator(X_input)\n",
        "  fake_output1_Disc, fake_output_Disc = Discriminator(output_Gen)"
      ],
      "execution_count": 0,
      "outputs": []
    },
    {
      "cell_type": "markdown",
      "metadata": {
        "id": "nH8Z0kdJdEad",
        "colab_type": "text"
      },
      "source": [
        "## Defining the first kind of loss function"
      ]
    },
    {
      "cell_type": "code",
      "metadata": {
        "id": "YafngeobdHYK",
        "colab_type": "code",
        "colab": {}
      },
      "source": [
        "with tf.name_scope(\"Discriminator_Loss\") as scope:\n",
        "  Discriminator_Loss = -tf.reduce_mean(tf.log(real_output_Disc + 0.0001) + tf.log(1.-fake_output_Disc + 0.0001))\n",
        "  \n",
        "with tf.name_scope(\"Generator_Loss\") as scope:\n",
        "  Generator_Loss = -tf.reduce_mean(tf.log(fake_output_Disc + 0.0001))\n",
        "  \n",
        "Disc_loss_total = tf.summary.scalar(\"Disc_total_Loss\", Discriminator_Loss)\n",
        "Gen_loss_total = tf.summary.scalar(\"Gen_total_loss\", Generator_Loss)"
      ],
      "execution_count": 0,
      "outputs": []
    },
    {
      "cell_type": "markdown",
      "metadata": {
        "id": "rG4oQx4Hfw1E",
        "colab_type": "text"
      },
      "source": [
        "## Defining the second kind of loss function"
      ]
    },
    {
      "cell_type": "code",
      "metadata": {
        "id": "U8hF01U_f0JH",
        "colab_type": "code",
        "outputId": "9dfbc19b-f099-4adf-b537-0db0bd99afe7",
        "colab": {
          "base_uri": "https://localhost:8080/",
          "height": 88
        }
      },
      "source": [
        "with tf.name_scope(\"Discriminator_Loss\") as scope:\n",
        "  Disc_real_loss = tf.reduce_mean(tf.nn.sigmoid_cross_entropy_with_logits(logits = real_output1_Disc, labels = tf.ones_like(real_output1_Disc)))\n",
        "  Disc_fake_loss = tf.reduce_mean(tf.nn.sigmoid_cross_entropy_with_logits(logits = fake_output1_Disc, labels = tf.zeros_like(fake_output1_Disc)))\n",
        "  Discriminator_Loss = Disc_real_loss + Disc_fake_loss\n",
        "  \n",
        "with tf.name_scope(\"Generator_Loss\") as scope:\n",
        "  Generator_loss = tf.reduce_mean(tf.nn.sigmoid_cross_entropy_with_logits(logits = fake_output1_Disc, labels = tf.ones_like(fake_output1_Disc)))\n",
        "  \n",
        "  \n",
        "Disc_loss_real_summary = tf.summary.scalar(\"Disc_real_loss\", Disc_real_loss)\n",
        "Disc_loss_fake_summary = tf.summary.scalar(\"Disc_fake_loss\", Disc_fake_loss)\n",
        "Disc_loss_summary = tf.summary.scalar(\"Disc_total_loss\", Discriminator_Loss)\n",
        "\n",
        "\n",
        "Disc_loss_total = tf.summary.merge([Disc_loss_real_summary, Disc_loss_fake_summary, Disc_loss_summary])\n",
        "Gen_loss_total = tf.summary.scalar(\"Gen_Loss\", Generator_loss)"
      ],
      "execution_count": 0,
      "outputs": [
        {
          "output_type": "stream",
          "text": [
            "W0703 22:36:06.899369 140627287127936 deprecation.py:323] From /usr/local/lib/python3.6/dist-packages/tensorflow/python/ops/nn_impl.py:180: add_dispatch_support.<locals>.wrapper (from tensorflow.python.ops.array_ops) is deprecated and will be removed in a future version.\n",
            "Instructions for updating:\n",
            "Use tf.where in 2.0, which has the same broadcast rule as np.where\n"
          ],
          "name": "stderr"
        }
      ]
    },
    {
      "cell_type": "markdown",
      "metadata": {
        "id": "5_vURFOd2Kl-",
        "colab_type": "text"
      },
      "source": [
        "## Define the variables to be trained during training"
      ]
    },
    {
      "cell_type": "code",
      "metadata": {
        "id": "6RYv5daOjS-P",
        "colab_type": "code",
        "colab": {}
      },
      "source": [
        "Generator_var = [weights[\"gen_H\"], weights[\"gen_final\"], bias[\"gen_H\"], bias[\"gen_final\"]]\n",
        "Discriminator_var = [weights[\"disc_H\"], weights[\"disc_final\"], bias[\"disc_H\"], bias[\"disc_final\"]]\n",
        "\n",
        "with tf.name_scope(\"Optimizer_discriminator\") as scope:\n",
        "  Discriminator_optimizer = tf.train.AdamOptimizer(learning_rate= learning_rate).minimize(Discriminator_Loss, var_list = Discriminator_var)\n",
        "\n",
        "with tf.name_scope(\"Optimizer_generator\") as scope:\n",
        "  Generator_optimizer = tf.train.AdamOptimizer(learning_rate = learning_rate).minimize(Generator_Loss, var_list = Generator_var)"
      ],
      "execution_count": 0,
      "outputs": []
    },
    {
      "cell_type": "markdown",
      "metadata": {
        "id": "sFcsuVzl2OlI",
        "colab_type": "text"
      },
      "source": [
        "## Run the compuational graph"
      ]
    },
    {
      "cell_type": "code",
      "metadata": {
        "id": "kfTQpGDtl_b0",
        "colab_type": "code",
        "outputId": "915b5d61-59c6-40c4-eb69-fbcbde5bbe7e",
        "colab": {
          "base_uri": "https://localhost:8080/",
          "height": 867
        }
      },
      "source": [
        "init = tf.global_variables_initializer()\n",
        "\n",
        "sess = tf.Session()\n",
        "sess.run(init)\n",
        "writer = tf.summary.FileWriter(\"./log\", sess.graph)\n",
        "\n",
        "for epoch in range(epochs):\n",
        "  x_batch, _ = mnist.train.next_batch(batch_size)\n",
        "  z_noise = np.random.uniform(-1., 1., size = [batch_size, z_noise_dim])\n",
        "  _, Disc_loss_epoch = sess.run([Discriminator_optimizer, Discriminator_Loss], feed_dict = {X_input: x_batch, Z_input: z_noise})\n",
        "  _, Gen_loss_epoch = sess.run([Generator_optimizer, Generator_Loss], feed_dict = {Z_input:z_noise})\n",
        "  \n",
        "  summary_Disc_loss = sess.run(Disc_loss_total, feed_dict = {X_input: x_batch, Z_input:z_noise})\n",
        "  writer.add_summary(summary_Disc_loss, epoch)\n",
        "  \n",
        "  summary_Gen_loss = sess.run(Gen_loss_total, feed_dict = {Z_input:z_noise})\n",
        "  writer.add_summary(summary_Gen_loss, epoch)\n",
        "  \n",
        "  if not epoch%2000:\n",
        "    print(\"Epoch :{0} :Geneartor Loss: {1}, Discriminator Loss: {2}\".format(epoch, Gen_loss_epoch, Disc_loss_epoch))"
      ],
      "execution_count": 0,
      "outputs": [
        {
          "output_type": "stream",
          "text": [
            "Epoch :0 :Geneartor Loss: 2.171452045440674, Discriminator Loss: 2.783787250518799\n",
            "Epoch :2000 :Geneartor Loss: 5.269892692565918, Discriminator Loss: 0.037253715097904205\n",
            "Epoch :4000 :Geneartor Loss: 3.762362003326416, Discriminator Loss: 0.08669276535511017\n",
            "Epoch :6000 :Geneartor Loss: 3.9069294929504395, Discriminator Loss: 0.13462771475315094\n",
            "Epoch :8000 :Geneartor Loss: 2.9310550689697266, Discriminator Loss: 0.2450733333826065\n",
            "Epoch :10000 :Geneartor Loss: 2.685447931289673, Discriminator Loss: 0.31128281354904175\n",
            "Epoch :12000 :Geneartor Loss: 2.7808914184570312, Discriminator Loss: 0.41135913133621216\n",
            "Epoch :14000 :Geneartor Loss: 2.6679799556732178, Discriminator Loss: 0.5368112325668335\n",
            "Epoch :16000 :Geneartor Loss: 2.364048480987549, Discriminator Loss: 0.6262546181678772\n",
            "Epoch :18000 :Geneartor Loss: 2.2895123958587646, Discriminator Loss: 0.4936774671077728\n",
            "Epoch :20000 :Geneartor Loss: 2.277991771697998, Discriminator Loss: 0.561287522315979\n",
            "Epoch :22000 :Geneartor Loss: 2.2658143043518066, Discriminator Loss: 0.616996169090271\n",
            "Epoch :24000 :Geneartor Loss: 2.7850136756896973, Discriminator Loss: 0.47224536538124084\n",
            "Epoch :26000 :Geneartor Loss: 2.12005615234375, Discriminator Loss: 0.48843705654144287\n",
            "Epoch :28000 :Geneartor Loss: 2.5101706981658936, Discriminator Loss: 0.4623633623123169\n",
            "Epoch :30000 :Geneartor Loss: 1.7995187044143677, Discriminator Loss: 0.9011083841323853\n",
            "Epoch :32000 :Geneartor Loss: 2.220252752304077, Discriminator Loss: 0.747376024723053\n",
            "Epoch :34000 :Geneartor Loss: 2.1469664573669434, Discriminator Loss: 0.5617660284042358\n",
            "Epoch :36000 :Geneartor Loss: 2.02357816696167, Discriminator Loss: 0.7216324806213379\n",
            "Epoch :38000 :Geneartor Loss: 2.1005077362060547, Discriminator Loss: 0.9064550399780273\n",
            "Epoch :40000 :Geneartor Loss: 1.876429796218872, Discriminator Loss: 0.8910866975784302\n",
            "Epoch :42000 :Geneartor Loss: 2.207254409790039, Discriminator Loss: 0.7633211612701416\n",
            "Epoch :44000 :Geneartor Loss: 2.6993603706359863, Discriminator Loss: 0.5374337434768677\n",
            "Epoch :46000 :Geneartor Loss: 1.9882478713989258, Discriminator Loss: 0.7339802384376526\n",
            "Epoch :48000 :Geneartor Loss: 1.8907670974731445, Discriminator Loss: 0.8828034400939941\n",
            "Epoch :50000 :Geneartor Loss: 2.1318042278289795, Discriminator Loss: 0.7908735275268555\n",
            "Epoch :52000 :Geneartor Loss: 2.26796293258667, Discriminator Loss: 0.7787302732467651\n",
            "Epoch :54000 :Geneartor Loss: 2.276306629180908, Discriminator Loss: 0.5777223110198975\n",
            "Epoch :56000 :Geneartor Loss: 2.5197160243988037, Discriminator Loss: 0.6900917291641235\n",
            "Epoch :58000 :Geneartor Loss: 2.0991291999816895, Discriminator Loss: 0.6508486270904541\n",
            "Epoch :60000 :Geneartor Loss: 2.145446300506592, Discriminator Loss: 0.8794255256652832\n",
            "Epoch :62000 :Geneartor Loss: 2.0182011127471924, Discriminator Loss: 0.6882598400115967\n",
            "Epoch :64000 :Geneartor Loss: 2.1699018478393555, Discriminator Loss: 0.8126131296157837\n",
            "Epoch :66000 :Geneartor Loss: 2.516280174255371, Discriminator Loss: 0.9453232884407043\n",
            "Epoch :68000 :Geneartor Loss: 1.844268560409546, Discriminator Loss: 0.7980228662490845\n",
            "Epoch :70000 :Geneartor Loss: 2.1199679374694824, Discriminator Loss: 0.7138031125068665\n",
            "Epoch :72000 :Geneartor Loss: 2.463834285736084, Discriminator Loss: 0.811252236366272\n",
            "Epoch :74000 :Geneartor Loss: 2.6008543968200684, Discriminator Loss: 0.8491702079772949\n",
            "Epoch :76000 :Geneartor Loss: 2.1231770515441895, Discriminator Loss: 0.850077211856842\n",
            "Epoch :78000 :Geneartor Loss: 2.0480668544769287, Discriminator Loss: 0.9238501787185669\n",
            "Epoch :80000 :Geneartor Loss: 1.6985344886779785, Discriminator Loss: 0.993524432182312\n",
            "Epoch :82000 :Geneartor Loss: 2.550218105316162, Discriminator Loss: 0.8955844044685364\n",
            "Epoch :84000 :Geneartor Loss: 1.8629249334335327, Discriminator Loss: 0.7756181955337524\n",
            "Epoch :86000 :Geneartor Loss: 2.3677661418914795, Discriminator Loss: 0.8536376357078552\n",
            "Epoch :88000 :Geneartor Loss: 2.751152276992798, Discriminator Loss: 0.7961899042129517\n",
            "Epoch :90000 :Geneartor Loss: 2.330566167831421, Discriminator Loss: 0.7864040732383728\n",
            "Epoch :92000 :Geneartor Loss: 2.1440305709838867, Discriminator Loss: 0.9137502908706665\n",
            "Epoch :94000 :Geneartor Loss: 2.186851978302002, Discriminator Loss: 1.0124839544296265\n",
            "Epoch :96000 :Geneartor Loss: 1.886589527130127, Discriminator Loss: 0.9150422811508179\n",
            "Epoch :98000 :Geneartor Loss: 2.102383613586426, Discriminator Loss: 0.8818690776824951\n"
          ],
          "name": "stdout"
        }
      ]
    },
    {
      "cell_type": "markdown",
      "metadata": {
        "id": "g4owgCGNy5GN",
        "colab_type": "text"
      },
      "source": [
        "## Creating testing cases"
      ]
    },
    {
      "cell_type": "code",
      "metadata": {
        "id": "fpjfGQaJy7W3",
        "colab_type": "code",
        "outputId": "a46357aa-6433-48c4-ae5b-3bb8c70d5912",
        "colab": {
          "base_uri": "https://localhost:8080/",
          "height": 378
        }
      },
      "source": [
        "n = 6\n",
        "canvas = np.empty((28 * n, 28 * n))\n",
        "for i in range(n):\n",
        "  Z_noise = np.random.uniform(-1., 1., size = [batch_size, z_noise_dim])\n",
        "  g = sess.run(output_Gen, feed_dict = {Z_input: Z_noise})\n",
        "  g = -1 * (g - 1)\n",
        "  for j in range(n):\n",
        "    canvas[i * 28:(i+1)*28, j*28:(j+1)*28] = g[j].reshape([28, 28])\n",
        "plt.figure(figsize = (n, n))\n",
        "plt.imshow(canvas, origin=\"upper\", cmap=\"gray\")\n",
        "plt.show()"
      ],
      "execution_count": 0,
      "outputs": [
        {
          "output_type": "display_data",
          "data": {
            "image/png": "[encoded data removed]",
            "text/plain": [
              "<Figure size 432x432 with 1 Axes>"
            ]
          },
          "metadata": {
            "tags": []
          }
        }
      ]
    },
    {
      "cell_type": "code",
      "metadata": {
        "id": "2lSBbqLR-e40",
        "colab_type": "code",
        "colab": {}
      },
      "source": [
        "rm -rf log"
      ],
      "execution_count": 0,
      "outputs": []
    },
    {
      "cell_type": "code",
      "metadata": {
        "id": "sLdOtDzQ-hAN",
        "colab_type": "code",
        "colab": {}
      },
      "source": [
        ""
      ],
      "execution_count": 0,
      "outputs": []
    }
  ]
}